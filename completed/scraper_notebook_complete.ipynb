{
 "cells": [
  {
   "cell_type": "markdown",
   "metadata": {},
   "source": [
    "# A full-fledged scraper"
   ]
  },
  {
   "cell_type": "markdown",
   "metadata": {},
   "source": [
    "Import our modules or packages that we will need to scrape a website, including `requests` and `bs4` and `csv`"
   ]
  },
  {
   "cell_type": "code",
   "execution_count": 1,
   "metadata": {},
   "outputs": [],
   "source": [
    "import requests\n",
    "from bs4 import BeautifulSoup\n",
    "import csv"
   ]
  },
  {
   "cell_type": "markdown",
   "metadata": {},
   "source": [
    "Make a request to the webpage url that we are scraping. The url is: https://s3-us-west-2.amazonaws.com/nicar-2015/Weekly+Rankings+-+Weekend+Box+Office+Results+++Rentrak.html"
   ]
  },
  {
   "cell_type": "code",
   "execution_count": 2,
   "metadata": {},
   "outputs": [],
   "source": [
    "r = requests.get('https://s3-us-west-2.amazonaws.com/nicar-2015/Weekly+Rankings+-+Weekend+Box+Office+Results+++Rentrak.html')"
   ]
  },
  {
   "cell_type": "markdown",
   "metadata": {},
   "source": [
    "Assign the html code from that site to a variable"
   ]
  },
  {
   "cell_type": "code",
   "execution_count": 3,
   "metadata": {},
   "outputs": [],
   "source": [
    "html = r.text"
   ]
  },
  {
   "cell_type": "markdown",
   "metadata": {},
   "source": [
    "Alternatively, to access this from local file in html/ dir, uncomment the next line\n",
    "\n",
    "```\n",
    "r= open('../project2/html/movies.html', 'r')\n",
    "html = r.read()\n",
    "```"
   ]
  },
  {
   "cell_type": "markdown",
   "metadata": {},
   "source": [
    "Parse the html"
   ]
  },
  {
   "cell_type": "code",
   "execution_count": 4,
   "metadata": {},
   "outputs": [],
   "source": [
    "soup = BeautifulSoup(html, \"html.parser\")"
   ]
  },
  {
   "cell_type": "markdown",
   "metadata": {},
   "source": [
    "Isolate the table"
   ]
  },
  {
   "cell_type": "code",
   "execution_count": 5,
   "metadata": {},
   "outputs": [],
   "source": [
    "table = soup.find('table',{'class':'entChartTable'})"
   ]
  },
  {
   "cell_type": "markdown",
   "metadata": {},
   "source": [
    "Find the rows, at the same time we are going to use slicing to skip the first two header rows."
   ]
  },
  {
   "cell_type": "code",
   "execution_count": 6,
   "metadata": {},
   "outputs": [],
   "source": [
    "rows = table.find_all('tr')\n",
    "\n",
    "rows = rows[2:]"
   ]
  },
  {
   "cell_type": "markdown",
   "metadata": {},
   "source": [
    "We are going to the csv module's DictWriter to write out our results. The DictWriter requires two things when we create it - the file and the fieldnames. First open our output file:"
   ]
  },
  {
   "cell_type": "code",
   "execution_count": 7,
   "metadata": {},
   "outputs": [],
   "source": [
    "csvfile = open(\"../project2/data/movies.csv\",\"w\", newline=\"\")"
   ]
  },
  {
   "cell_type": "markdown",
   "metadata": {},
   "source": [
    "Next specify the fieldnames."
   ]
  },
  {
   "cell_type": "code",
   "execution_count": 8,
   "metadata": {},
   "outputs": [],
   "source": [
    "fieldnames = [\n",
    "    \"title\", \n",
    "    \"world_box_office\", \n",
    "    \"international_box_office\", \n",
    "    \"domestic_box_office\", \n",
    "    \"world_cume\", \n",
    "    \"international_cume\", \n",
    "    \"domestic_cume\", \n",
    "    \"international_distributor\", \n",
    "    \"number_territories\", \n",
    "    \"domestic_distributor\"\n",
    "]"
   ]
  },
  {
   "cell_type": "markdown",
   "metadata": {},
   "source": [
    "Point our csv.DictWriter at the output file and specify the fieldnames along with other necessary parameters."
   ]
  },
  {
   "cell_type": "code",
   "execution_count": 9,
   "metadata": {},
   "outputs": [],
   "source": [
    "output = csv.DictWriter(csvfile, fieldnames = fieldnames, delimiter=',',quotechar='\"',quoting=csv.QUOTE_MINIMAL)\n",
	"output.writeheader()"
	
   ]
  },
  {
   "cell_type": "code",
   "execution_count": 10,
   "metadata": {},
   "outputs": [],
   "source": [
    "#loop through the rows\n",
    "for row in rows:\n",
    "    #grab the table cells from each row\n",
    "    cells = row.find_all('td')\n",
    "    #skip the blank rows\n",
    "    #create a dictionary and assign the cell values to keys in our dictionary\n",
    "    result = {\n",
    "        \"title\" : cells[0].text.strip(),\n",
    "        \"world_box_office\" : cells[1].text.strip(),\n",
    "        \"international_box_office\" : cells[2].text.strip(),\n",
    "        \"domestic_box_office\" : cells[3].text.strip(),\n",
    "        \"world_cume\" : cells[4].text.strip(),\n",
    "        \"international_cume\" : cells[5].text.strip(),\n",
    "        \"domestic_cume\" : cells[6].text.strip(),\n",
    "        \"international_distributor\" : cells[7].text.strip(),\n",
    "        \"number_territories\" : cells[8].text.strip(),\n",
    "        \"domestic_distributor\" : cells[9].text.strip()\n",
    "    }\n",
    "    #write the variables out to a csv file\n",
    "    output.writerow(result)"
   ]
  },
  {
   "cell_type": "markdown",
   "metadata": {
    "collapsed": true
   },
   "source": [
    "close the csv file"
   ]
  },
  {
   "cell_type": "code",
   "execution_count": 11,
   "metadata": {},
   "outputs": [],
   "source": [
    "csvfile.close()\n",
    "\n",
    "#win"
   ]
  }
 ],
 "metadata": {
  "anaconda-cloud": {},
  "kernelspec": {
   "display_name": "Python 3",
   "language": "python",
   "name": "python3"
  },
  "language_info": {
   "codemirror_mode": {
    "name": "ipython",
    "version": 3
   },
   "file_extension": ".py",
   "mimetype": "text/x-python",
   "name": "python",
   "nbconvert_exporter": "python",
   "pygments_lexer": "ipython3",
   "version": "3.6.0"
  }
 },
 "nbformat": 4,
 "nbformat_minor": 1
}
